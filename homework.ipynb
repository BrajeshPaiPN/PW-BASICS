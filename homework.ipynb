{
 "cells": [
  {
   "cell_type": "code",
   "execution_count": 36,
   "id": "2164c1ba",
   "metadata": {},
   "outputs": [],
   "source": [
    "# What is Python, and why is it popular\n",
    "# Python is a high-level, interpreted programming language known for its readability and simplicity.\n",
    "# It is widely used in various domains such as web development, data science, artificial intelligence, and automation."
   ]
  },
  {
   "cell_type": "code",
   "execution_count": 37,
   "id": "60d77073",
   "metadata": {},
   "outputs": [],
   "source": [
    "# What is an interpreter in Python\n",
    "# Interpreter in Python is a program that executes Python code line by line, translating it into machine code that the computer can understand. \n",
    "# This allows for immediate execution of code without the need for compilation."
   ]
  },
  {
   "cell_type": "code",
   "execution_count": 38,
   "id": "474e7dfc",
   "metadata": {},
   "outputs": [],
   "source": [
    "# What are pre-defined keywords in Python\n",
    "# Pre-defined keywords in Python are reserved words that have special meaning in the language syntax.\n",
    "# Examples include 'if', 'else', 'while', 'for', 'def', and 'class'. These keywords cannot be used as variable names or identifiers."
   ]
  },
  {
   "cell_type": "code",
   "execution_count": 39,
   "id": "07ea4d61",
   "metadata": {},
   "outputs": [],
   "source": [
    "# Can keywords be used as variable names\n",
    "# No, keywords cannot be used as variable names in Python.\n",
    "# Attempting to use a keyword as a variable name will result in a syntax error."
   ]
  },
  {
   "cell_type": "code",
   "execution_count": 40,
   "id": "46f71186",
   "metadata": {},
   "outputs": [],
   "source": [
    "# What is mutability in Python\n",
    "# Mutability in Python refers to the ability of an object to be changed after it has been created.\n",
    "# Mutable objects can have their values modified, while immutable objects cannot."
   ]
  },
  {
   "cell_type": "code",
   "execution_count": 41,
   "id": "7a6d34b3",
   "metadata": {},
   "outputs": [],
   "source": [
    "# Why are lists mutable, but tuples are immutable\n",
    "# Lists are mutable because they are designed to allow modification of their contents, such as adding, removing, or changing elements.\n",
    "# Tuples, on the other hand, are immutable to provide a fixed collection of items that cannot be altered, ensuring data integrity and consistency."
   ]
  },
  {
   "cell_type": "code",
   "execution_count": 42,
   "id": "f33ec6f6",
   "metadata": {},
   "outputs": [],
   "source": [
    "# What is the difference between “==” and “is” operators in Python\n",
    "# The \"==\" operator checks for value equality, meaning it compares the values of two objects to see if they are the same.\n",
    "# The \"is\" operator checks for identity, meaning it compares the memory addresses of two objects to see if they are the same object in memory."
   ]
  },
  {
   "cell_type": "code",
   "execution_count": 43,
   "id": "5b8c425a",
   "metadata": {},
   "outputs": [],
   "source": [
    "# What are logical operators in Python\n",
    "# Logical operators in Python are used to combine conditional statements. The main logical operators are:\n",
    "# - `and`: Returns True if both operands are true.\n",
    "# - `or`: Returns True if at least one of the operands is true.\n",
    "# - `not`: Returns True if the operand is false, and vice versa.\n",
    "# These operators are commonly used in control flow statements like if conditions.\n"
   ]
  },
  {
   "cell_type": "code",
   "execution_count": 44,
   "id": "ff1d2f8f",
   "metadata": {},
   "outputs": [],
   "source": [
    "# What is type casting in Python\n",
    "# Type casting in Python is the process of converting one data type into another.\n",
    "# This can be done using built-in functions like int(), float(), str(), etc.\n",
    "# Type casting is useful when you need to perform operations on different data types or when you want to ensure that a variable is of a specific type.\n"
   ]
  },
  {
   "cell_type": "code",
   "execution_count": 45,
   "id": "7936fe61",
   "metadata": {},
   "outputs": [],
   "source": [
    "# What is the difference between implicit and explicit type casting\n",
    "# Implicit type casting, also known as automatic type conversion, occurs when Python automatically converts one data type to another without explicit instruction from the programmer.\n",
    "# For example, when adding an integer and a float, Python automatically converts the integer to a float."
   ]
  },
  {
   "cell_type": "code",
   "execution_count": 46,
   "id": "1d1c22f6",
   "metadata": {},
   "outputs": [],
   "source": [
    "# What is the purpose of conditional statements in Python\n",
    "# Conditional statements in Python are used to execute different blocks of code based on certain conditions.\n",
    "# They allow the program to make decisions and control the flow of execution.\n",
    "# The main conditional statements in Python are:\n",
    "# - `if`: Executes a block of code if the condition is true.\n",
    "# - `elif`: Stands for \"else if\" and allows checking multiple conditions.\n",
    "# - `else`: Executes a block of code if none of the previous conditions are true."
   ]
  },
  {
   "cell_type": "code",
   "execution_count": 47,
   "id": "35209763",
   "metadata": {},
   "outputs": [],
   "source": [
    "# How does the elif statement work\n",
    "# The `elif` statement in Python allows you to check multiple conditions in a sequence.\n",
    "# It stands for \"else if\" and is used after an `if` statement to check additional conditions if the previous condition(s) were false.\n",
    "# If the condition in the `elif` statement evaluates to true, the corresponding block of code is executed.\n",
    "# If none of the `if` or `elif` conditions are true, the `else` block (if present) will be executed."
   ]
  },
  {
   "cell_type": "code",
   "execution_count": 48,
   "id": "0818cb61",
   "metadata": {},
   "outputs": [],
   "source": [
    "# What is the difference between for and while loops\n",
    "# The `for` loop in Python is used to iterate over a sequence (like a list, tuple, or string) or any iterable object.\n",
    "# It executes a block of code for each item in the sequence.\n",
    "# The `while` loop, on the other hand, continues to execute a block of code as long as a specified condition is true.\n",
    "# It checks the condition before each iteration, and if the condition is false, the loop terminates.\n",
    "# The main difference is that `for` loops are typically used when the number of iterations is known or when iterating over a collection,\n",
    "# while `while` loops are used when the number of iterations is not predetermined and depends on a condition.\n",
    "\n"
   ]
  },
  {
   "cell_type": "code",
   "execution_count": 49,
   "id": "9ad42362",
   "metadata": {},
   "outputs": [],
   "source": [
    "# Describe a scenario where a while loop is more suitable than a for loop\n",
    "# A scenario where a `while` loop is more suitable than a `for` loop is when you need to repeatedly prompt a user for input until they provide a valid response.\n",
    "# For example, if you want to keep asking a user for their age until they enter a valid integer, a `while` loop would be ideal because you don't know how many attempts it will take to get a valid input.\n",
    "# Here's an example of such a scenario:\n",
    "# def get_valid_age():\n",
    "#     while True:\n",
    "#         if(input(\"Do you want to enter your age? (yes/no): \").lower() == 'yes'):\n",
    "#             age = int(input(\"Please enter your age: \"))\n",
    "#             if age < 0:\n",
    "#                 print(\"Age cannot be negative. Try again.\")\n",
    "#                 continue\n",
    "#             return age\n",
    "#         else:\n",
    "#             print(\"Exiting age input.\")\n",
    "#       \\"
   ]
  },
  {
   "cell_type": "code",
   "execution_count": 50,
   "id": "b5cb5624",
   "metadata": {},
   "outputs": [],
   "source": [
    "# Practical Questions"
   ]
  },
  {
   "cell_type": "code",
   "execution_count": 51,
   "id": "69f0b92e",
   "metadata": {},
   "outputs": [
    {
     "name": "stdout",
     "output_type": "stream",
     "text": [
      "Hello, World!\n"
     ]
    }
   ],
   "source": [
    "# Write a Python program to print \"Hello, World!\"\n",
    "print(\"Hello, World!\")"
   ]
  },
  {
   "cell_type": "code",
   "execution_count": null,
   "id": "8332d580",
   "metadata": {},
   "outputs": [],
   "source": [
    "# Write a Python program that displays your name and age\n",
    "name = input(\"Enter your name: \")\n",
    "age = input(\"Enter your age: \")\n",
    "print(f\"My name is {name} and I am {age} years old.\")"
   ]
  },
  {
   "cell_type": "code",
   "execution_count": null,
   "id": "6c15a6fc",
   "metadata": {},
   "outputs": [
    {
     "name": "stdout",
     "output_type": "stream",
     "text": [
      "Pre-defined keywords in Python:\n",
      "False\n",
      "None\n",
      "True\n",
      "and\n",
      "as\n",
      "assert\n",
      "async\n",
      "await\n",
      "break\n",
      "class\n",
      "continue\n",
      "def\n",
      "del\n",
      "elif\n",
      "else\n",
      "except\n",
      "finally\n",
      "for\n",
      "from\n",
      "global\n",
      "if\n",
      "import\n",
      "in\n",
      "is\n",
      "lambda\n",
      "nonlocal\n",
      "not\n",
      "or\n",
      "pass\n",
      "raise\n",
      "return\n",
      "try\n",
      "while\n",
      "with\n",
      "yield\n"
     ]
    }
   ],
   "source": [
    "# Write code to print all the pre-defined keywords in Python using the keyword library\n",
    "import keyword\n",
    "\n",
    "print(\"Pre-defined keywords in Python:\")\n",
    "for i in keyword.kwlist:\n",
    "    print(i)"
   ]
  },
  {
   "cell_type": "code",
   "execution_count": null,
   "id": "579871bc",
   "metadata": {},
   "outputs": [],
   "source": [
    "# Write a program that checks if a given word is a Python keyword.\n",
    "input_word = input(\"Enter a word to check if it's a Python keyword: \")\n",
    "if input_word in keyword.kwlist:\n",
    "    print(f\"{input_word} is a Python keyword.\")\n",
    "else:\n",
    "    print(f\"{input_word} is not a Python keyword.\")"
   ]
  },
  {
   "cell_type": "code",
   "execution_count": null,
   "id": "69001fba",
   "metadata": {},
   "outputs": [],
   "source": [
    "# . Create a list and tuple in Python, and demonstrate how attempting to change an element works differently for each.\n",
    "mylist = [1, 2, 3, 4]\n",
    "mytuple = (1, 2, 3, 4)\n",
    "\n",
    "mylist[0] = 10  # This will work\n",
    "print(\"List after modification:\", mylist)\n",
    "\n",
    "mytuple[0] = 10  # This will raise an error"
   ]
  },
  {
   "cell_type": "code",
   "execution_count": null,
   "id": "043a01fe",
   "metadata": {},
   "outputs": [],
   "source": [
    "# Write a function to demonstrate the behavior of mutable and immutable arguments\n",
    "def modify_list(lst):\n",
    "    lst.append(5)  # This modifies the list in place\n",
    "def modify_tuple(tup):\n",
    "        tup[0] = 10  # This will raise an error since tuples are immutable\n",
    "  "
   ]
  },
  {
   "cell_type": "code",
   "execution_count": null,
   "id": "09b238e8",
   "metadata": {},
   "outputs": [],
   "source": [
    "# Write a program that performs basic arithmetic operations on two user-input numbers\n",
    "input_num1 = float(input(\"Enter the first number: \"))\n",
    "input_num2 = float(input(\"Enter the second number: \"))\n",
    "print(\"Select an operation:\")\n",
    "print(\"1. Addition\")\n",
    "print(\"2. Subtraction\")\n",
    "print(\"3. Multiplication\")\n",
    "print(\"4. Division\")\n",
    "operation = input(\"Enter the operation (1/2/3/4): \")\n",
    "if operation == '1':\n",
    "    result = input_num1 + input_num2\n",
    "    print(f\"The result of addition is: {result}\")\n",
    "elif operation == '2':\n",
    "    result = input_num1 - input_num2\n",
    "    print(f\"The result of subtraction is: {result}\")\n",
    "elif operation == '3':\n",
    "    result = input_num1 * input_num2\n",
    "    print(f\"The result of multiplication is: {result}\")\n",
    "elif operation == '4':\n",
    "    if input_num2 != 0:\n",
    "        result = input_num1 / input_num2\n",
    "        print(f\"The result of division is: {result}\")\n",
    "    else:\n",
    "        print(\"Error: Division by zero is not allowed.\")\n",
    "        \n"
   ]
  },
  {
   "cell_type": "code",
   "execution_count": null,
   "id": "6c6a90cc",
   "metadata": {},
   "outputs": [],
   "source": [
    "# Write a program to demonstrate the use of logical operators\n",
    "def check_conditions(a, b):\n",
    "    if a > 0 and b > 0:\n",
    "        print(\"Both numbers are positive.\")\n",
    "    elif a < 0 or b < 0:\n",
    "        print(\"At least one number is negative.\")\n",
    "    else:\n",
    "        print(\"Both numbers are zero.\")"
   ]
  },
  {
   "cell_type": "code",
   "execution_count": null,
   "id": "7790d295",
   "metadata": {},
   "outputs": [],
   "source": [
    "#  Write a Python program to convert user input from string to integer, float, and boolean types\n",
    "def type_conversion():\n",
    "    user_input = input(\"Enter a number: \")\n",
    "    try:\n",
    "        int_value = int(user_input)\n",
    "        float_value = float(user_input)\n",
    "        bool_value = bool(int_value)  # Non-zero integers are True, zero is False\n",
    "        print(f\"Integer: {int_value}, Float: {float_value}, Boolean: {bool_value}\")\n",
    "    except ValueError:\n",
    "        print(\"Invalid input. Please enter a valid number.\")"
   ]
  },
  {
   "cell_type": "code",
   "execution_count": null,
   "id": "c624601f",
   "metadata": {},
   "outputs": [],
   "source": [
    "# . Write code to demonstrate type casting with list elements.\n",
    "def type_casting_example():\n",
    "    my_list = [\"1\", \"2\", \"3.5\", \"4\"]\n",
    "    int_list = [int(x) for x in my_list if x.isdigit()]  # Convert strings to integers\n",
    "    float_list = [float(x) for x in my_list]  # Convert all to floats\n",
    "    print(\"Original list:\", my_list)\n",
    "    print(\"List after type casting to integers:\", int_list)\n",
    "    print(\"List after type casting to floats:\", float_list)"
   ]
  },
  {
   "cell_type": "code",
   "execution_count": null,
   "id": "2561c641",
   "metadata": {},
   "outputs": [],
   "source": [
    "# Write a program that checks if a number is positive, negative, or zero\n",
    "def check_number():\n",
    "    number = float(input(\"Enter a number: \"))\n",
    "    if number > 0:\n",
    "        print(\"The number is positive.\")\n",
    "    elif number < 0:\n",
    "        print(\"The number is negative.\")\n",
    "    else:\n",
    "        print(\"The number is zero.\")"
   ]
  },
  {
   "cell_type": "code",
   "execution_count": null,
   "id": "fe14b9e1",
   "metadata": {},
   "outputs": [],
   "source": [
    "# 2. Write a for loop to print numbers from 1 to 10.\n",
    "def print_numbers():\n",
    "    for i in range(1, 11):\n",
    "        print(i)"
   ]
  },
  {
   "cell_type": "code",
   "execution_count": null,
   "id": "38799bf4",
   "metadata": {},
   "outputs": [],
   "source": [
    "# Write a Python program to find the sum of all even numbers between 1 and 50.\n",
    "def sum_even_numbers():\n",
    "    total = 0\n",
    "    for i in range(1, 51):\n",
    "        if i % 2 == 0:\n",
    "            total += i\n",
    "    print(\"The sum of all even numbers between 1 and 50 is:\", total)"
   ]
  },
  {
   "cell_type": "code",
   "execution_count": null,
   "id": "eab3daf6",
   "metadata": {},
   "outputs": [],
   "source": [
    "# Write a program to reverse a string using a while loop\n",
    "def reverse_string():\n",
    "    user_string = input(\"Enter a string to reverse: \")\n",
    "    reversed_string = \"\"\n",
    "    index = len(user_string) - 1\n",
    "    while index >= 0:\n",
    "        reversed_string += user_string[index]\n",
    "        index -= 1\n",
    "    print(\"Reversed string:\", reversed_string)"
   ]
  },
  {
   "cell_type": "code",
   "execution_count": null,
   "id": "25d1e07e",
   "metadata": {},
   "outputs": [],
   "source": [
    "# Write a Python program to calculate the factorial of a number provided by the user using a while loop\n",
    "def factorial():\n",
    "    number = int(input(\"Enter a number to calculate its factorial: \"))\n",
    "    result = 1\n",
    "    count = 1\n",
    "    while count <= number:\n",
    "        result *= count\n",
    "        count += 1\n",
    "    print(f\"The factorial of {number} is: {result}\")"
   ]
  }
 ],
 "metadata": {
  "kernelspec": {
   "display_name": "base",
   "language": "python",
   "name": "python3"
  },
  "language_info": {
   "codemirror_mode": {
    "name": "ipython",
    "version": 3
   },
   "file_extension": ".py",
   "mimetype": "text/x-python",
   "name": "python",
   "nbconvert_exporter": "python",
   "pygments_lexer": "ipython3",
   "version": "3.12.7"
  }
 },
 "nbformat": 4,
 "nbformat_minor": 5
}
