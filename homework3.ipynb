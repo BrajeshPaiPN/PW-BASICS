{
 "cells": [
  {
   "cell_type": "code",
   "execution_count": 22,
   "id": "27431396",
   "metadata": {},
   "outputs": [],
   "source": [
    "# q1  What is the difference between a function and a method in Python?\n",
    "def function_example():\n",
    "    return \"This is a function.\"\n",
    "\n",
    "    class ExampleClass:\n",
    "        def method_example(self):\n",
    "            return \"This is a method.\"\n",
    "        # A function is defined outside of a class and can be called independently,\n",
    "        # while a method is defined within a class and is called on an instance of that class.\n",
    "        # Example usage:\n",
    "        function_result = function_example()\n",
    "        method_result = ExampleClass().method_example()\n",
    "        print(function_result)\n",
    "        print(method_result)\n"
   ]
  },
  {
   "cell_type": "code",
   "execution_count": 23,
   "id": "ecfe4d18",
   "metadata": {},
   "outputs": [
    {
     "name": "stdout",
     "output_type": "stream",
     "text": [
      "Received arg1 and arg2\n"
     ]
    }
   ],
   "source": [
    "# q2 Explain the concept of function arguments and parameters in Python.\n",
    "def function_with_args(param1, param2):\n",
    "    return f\"Received {param1} and {param2}\"\n",
    "# In Python, function arguments are the values you pass to a function when you call it,\n",
    "# while parameters are the variables defined in the function signature that accept those values.\n",
    "# Example usage:\n",
    "result = function_with_args(\"arg1\", \"arg2\")\n",
    "print(result)\n"
   ]
  },
  {
   "cell_type": "code",
   "execution_count": 24,
   "id": "d9ceec7f",
   "metadata": {},
   "outputs": [],
   "source": [
    "# q3 What are the different ways to define and call a function in Python?\n",
    "def simple_function():\n",
    "    return \"This is a simple function.\"\n",
    "def function_with_default_param(param1=\"default\"):\n",
    "    return f\"Received {param1}\"\n",
    "# You can define a function using the `def` keyword, and you can call it by using its name followed by parentheses.\n",
    "# You can also define functions with default parameters, variable-length arguments, and keyword arguments.\n",
    "# Example usage:\n",
    "result1 = simple_function()\n",
    "result2 = function_with_default_param()"
   ]
  },
  {
   "cell_type": "code",
   "execution_count": 25,
   "id": "a6f7edc4",
   "metadata": {},
   "outputs": [
    {
     "name": "stdout",
     "output_type": "stream",
     "text": [
      "This is a simple function.\n"
     ]
    }
   ],
   "source": [
    "# q4 What is the purpose of the `return` statement in a Python function?\n",
    "def function_with_return():\n",
    "    return \"This function returns a value.\"\n",
    "# The `return` statement is used to exit a function and return a value to the caller.\n",
    "# If no `return` statement is present, the function returns `None` by default.\n",
    "result3 = function_with_return()\n",
    "print(result1)"
   ]
  },
  {
   "cell_type": "code",
   "execution_count": 26,
   "id": "ea50b496",
   "metadata": {},
   "outputs": [],
   "source": [
    "# q5 What are iterators in Python and how do they differ from iterables\n",
    "def is_iterator(obj):\n",
    "    return hasattr(obj, '__iter__') and hasattr(obj, '__next__')    \n",
    "# An iterable is an object that can return its members one at a time, such as lists, tuples, and strings.\n",
    "# An iterator is an object that implements the iterator protocol, which consists of the `__iter\n",
    "# __` and `__next__` methods.\n",
    "# You can convert an iterable to an iterator using the `iter()` function."
   ]
  },
  {
   "cell_type": "code",
   "execution_count": 27,
   "id": "c668efc5",
   "metadata": {},
   "outputs": [],
   "source": [
    "# q6 Explain the concept of generators in Python and how they are defined.\n",
    "def simple_generator():\n",
    "    yield \"First value\"\n",
    "    yield \"Second value\"\n",
    "    # Generators are a type of iterable that allow you to iterate over a sequence of values without storing them all in memory at once.\n",
    "    # They are defined using the `yield` statement instead of `return`.\n",
    "    # Example usage:\n",
    "    gen = simple_generator()\n",
    "    for value in gen:\n",
    "        print(value)\n",
    "        \n"
   ]
  },
  {
   "cell_type": "code",
   "execution_count": 28,
   "id": "1ee63420",
   "metadata": {},
   "outputs": [],
   "source": [
    "# q7  What are the advantages of using generators over regular functions\n",
    "def advantages_of_generators():\n",
    "    return [\n",
    "        \"Memory efficiency: Generators yield items one at a time, which is more memory-efficient than storing all items in a list.\",\n",
    "        \"Lazy evaluation: Generators compute values on-the-fly, which can lead to performance improvements for large datasets.\",\n",
    "        \"Infinite sequences: Generators can represent infinite sequences without running out of memory.\"\n",
    "    ]\n",
    "# The advantages of using generators over regular functions include:\n",
    "    # 1. Memory efficiency: Generators yield items one at a time, which is more memory-efficient than storing all items in a list.\n",
    "    # 2. Lazy evaluation: Generators compute values on-the-fly, which can lead to performance improvements for large datasets.\n",
    "    # 3. Infinite sequences: Generators can represent infinite sequences without running out of memory.\n",
    "    advantages = advantages_of_generators()\n",
    "    for advantage in advantages:\n",
    "        print(advantage)"
   ]
  },
  {
   "cell_type": "code",
   "execution_count": 29,
   "id": "f77cb117",
   "metadata": {},
   "outputs": [
    {
     "name": "stdout",
     "output_type": "stream",
     "text": [
      "8\n"
     ]
    }
   ],
   "source": [
    "# q8 What is a lambda function in Python and when is it typically used\n",
    "def lambda_example(x, y):\n",
    "    return (lambda a, b: a + b)(x, y)\n",
    "# A lambda function is an anonymous function defined using the `lambda` keyword.\n",
    "# It can take any number of arguments but can only have one expression.\n",
    "# Lambda functions are typically used for short, throwaway functions that are not reused elsewhere.\n",
    "# Example usage:\n",
    "result4 = lambda_example(3, 5)\n",
    "print(result4)"
   ]
  },
  {
   "cell_type": "code",
   "execution_count": 30,
   "id": "38e43313",
   "metadata": {},
   "outputs": [
    {
     "name": "stdout",
     "output_type": "stream",
     "text": [
      "[1, 4, 9, 16, 25]\n"
     ]
    }
   ],
   "source": [
    "# q9 Explain the purpose and usage of the `map()` function in Python.\n",
    "def square(x):\n",
    "    return x * x\n",
    "# The `map()` function applies a given function to all items in an iterable (like a list) and returns an iterator.\n",
    "# It is often used for transforming data in a concise way.  \n",
    "def map_example(numbers):\n",
    "    return list(map(square, numbers))\n",
    "# Example usage:\n",
    "numbers = [1, 2, 3, 4, 5]\n",
    "result5 = map_example(numbers)\n",
    "print(result5)"
   ]
  },
  {
   "cell_type": "code",
   "execution_count": 31,
   "id": "5b744845",
   "metadata": {},
   "outputs": [
    {
     "name": "stdout",
     "output_type": "stream",
     "text": [
      "[2, 4]\n",
      "15\n"
     ]
    }
   ],
   "source": [
    "# q10  What is the difference between `map()`, `reduce()`, and `filter()` functions in Python?\n",
    "from functools import reduce\n",
    "def filter_example(numbers):\n",
    "    return list(filter(lambda x: x % 2 == 0, numbers))\n",
    "def reduce_example(numbers):\n",
    "    return reduce(lambda x, y: x + y, numbers)\n",
    "# The `map()` function applies a function to each item in an iterable and returns an iterator.\n",
    "# The `filter()` function filters items in an iterable based on a condition and returns an iterator.\n",
    "# The `reduce()` function applies a binary function cumulatively to the items in an iterable,\n",
    "# reducing the iterable to a single value.\n",
    "# Example usage:\n",
    "numbers = [1, 2, 3, 4, 5]\n",
    "result6 = filter_example(numbers)\n",
    "result7 = reduce_example(numbers)\n",
    "print(result6)\n",
    "print(result7)\n"
   ]
  },
  {
   "cell_type": "code",
   "execution_count": 32,
   "id": "a1bbe656",
   "metadata": {},
   "outputs": [],
   "source": [
    "# Practical Questions"
   ]
  },
  {
   "cell_type": "code",
   "execution_count": 33,
   "id": "9b2b5531",
   "metadata": {},
   "outputs": [
    {
     "data": {
      "text/plain": [
       "<function print(*args, sep=' ', end='\\n', file=None, flush=False)>"
      ]
     },
     "execution_count": 33,
     "metadata": {},
     "output_type": "execute_result"
    }
   ],
   "source": [
    "# q1  Write a Python function that takes a list of numbers as input and returns the sum of all even numbers in the list.\n",
    "def sum_of_even_numbers(numbers):\n",
    "    return sum(filter(lambda x: x % 2 == 0, numbers))\n",
    "# Example usage:\n",
    "numbers = [1, 2, 3, 4, 5, 6]\n",
    "result8 = sum_of_even_numbers(numbers)  \n",
    "print"
   ]
  },
  {
   "cell_type": "code",
   "execution_count": 34,
   "id": "8bbbb83a",
   "metadata": {},
   "outputs": [
    {
     "name": "stdout",
     "output_type": "stream",
     "text": [
      "!dlroW ,olleH\n"
     ]
    }
   ],
   "source": [
    "# q2 Create a Python function that accepts a string and returns the reverse of that string.\n",
    "def reverse_string(s):\n",
    "    return s[::-1]\n",
    "# Example usage:\n",
    "input_string = \"Hello, World!\"\n",
    "result9 = reverse_string(input_string)\n",
    "print(result9)"
   ]
  },
  {
   "cell_type": "code",
   "execution_count": 35,
   "id": "7f01a619",
   "metadata": {},
   "outputs": [
    {
     "name": "stdout",
     "output_type": "stream",
     "text": [
      "[1, 4, 9, 16, 25]\n"
     ]
    }
   ],
   "source": [
    "# q3  Implement a Python function that takes a list of integers and returns a new list containing the squares of each number\n",
    "def square_numbers(numbers):\n",
    "    return list(map(lambda x: x * x, numbers))\n",
    "# Example usage:\n",
    "numbers_to_square = [1, 2, 3, 4, 5]\n",
    "result10 = square_numbers(numbers_to_square)\n",
    "print(result10)"
   ]
  },
  {
   "cell_type": "code",
   "execution_count": 36,
   "id": "c887db21",
   "metadata": {},
   "outputs": [
    {
     "name": "stdout",
     "output_type": "stream",
     "text": [
      "[2, 3, 5, 7, 11, 13, 17, 19, 23, 29, 31, 37, 41, 43, 47, 53, 59, 61, 67, 71, 73, 79, 83, 89, 97, 101, 103, 107, 109, 113, 127, 131, 137, 139, 149, 151, 157, 163, 167, 173, 179, 181, 191, 193, 197, 199]\n"
     ]
    }
   ],
   "source": [
    "# q4 Write a Python function that checks if a given number is prime or not from 1 to 200.\n",
    "def is_prime(n):\n",
    "    if n <= 1:\n",
    "        return False\n",
    "    for i in range(2, int(n**0.5) + 1):\n",
    "        if n % i == 0:\n",
    "            return False\n",
    "    return True\n",
    "# Example usage:\n",
    "primes = [n for n in range(1, 201) if is_prime(n)]\n",
    "print(primes)"
   ]
  },
  {
   "cell_type": "code",
   "execution_count": 45,
   "id": "6b6a454b",
   "metadata": {},
   "outputs": [],
   "source": [
    "# q5 Create an iterator class in Python that generates the Fibonacci sequence up to a specified number of terms.\n",
    "class FibonacciIterator:\n",
    "    def __init__(self, terms):\n",
    "        self.terms = terms\n",
    "        self.a, self.b = 0, 1\n",
    "        self.count = 0\n",
    "\n",
    "    def __iter__(self):\n",
    "        return self\n",
    "\n",
    "    def __next__(self):\n",
    "        if self.count < self.terms:\n",
    "            value = self.a\n",
    "            self.a, self.b = self.b, self.a + self.b\n",
    "            self.count += 1\n",
    "            return value\n",
    "        else:\n",
    "            raise StopIteration\n",
    "        # Example usage:\n",
    "        fibonacci = FibonacciIterator(10)\n",
    "        for num in fibonacci:\n",
    "            print(num)\n",
    "            "
   ]
  },
  {
   "cell_type": "code",
   "execution_count": 52,
   "id": "7ff5a02d",
   "metadata": {},
   "outputs": [],
   "source": [
    "# q6  Write a generator function in Python that yields the powers of 2 up to a given exponent.\n",
    "def powers_of_two(exponent):\n",
    "    for i in range(exponent + 1):\n",
    "        yield 2 ** i\n",
    "        # Example usage:\n",
    "    for power in powers_of_two(5):\n",
    "        print(power)\n"
   ]
  },
  {
   "cell_type": "code",
   "execution_count": 54,
   "id": "d2604583",
   "metadata": {},
   "outputs": [],
   "source": [
    "# q7  Implement a generator function that reads a file line by line and yields each line as a string.\n",
    "def read_file_lines(file_path):\n",
    "    with open(file_path, 'r') as file:\n",
    "        for line in file:\n",
    "            yield line.strip()\n",
    "# Example usage:\n",
    "def print_file_lines(file_path):\n",
    "    for line in read_file_lines(file_path):\n",
    "        print(line)"
   ]
  },
  {
   "cell_type": "code",
   "execution_count": 55,
   "id": "0c55abfd",
   "metadata": {},
   "outputs": [
    {
     "name": "stdout",
     "output_type": "stream",
     "text": [
      "[(2, 1), (3, 2), (1, 3)]\n"
     ]
    }
   ],
   "source": [
    "# q8 . Use a lambda function in Python to sort a list of tuples based on the second element of each tuple.\n",
    "def sort_tuples_by_second_element(tuples_list):\n",
    "    return sorted(tuples_list, key=lambda x: x[1])\n",
    "# Example usage:\n",
    "tuples_to_sort = [(1, 3), (2, 1), (3, 2)]\n",
    "sorted_tuples = sort_tuples_by_second_element(tuples_to_sort)\n",
    "print(sorted_tuples)"
   ]
  },
  {
   "cell_type": "code",
   "execution_count": 56,
   "id": "fefb7652",
   "metadata": {},
   "outputs": [
    {
     "name": "stdout",
     "output_type": "stream",
     "text": [
      "[32.0, 68.0, 98.6, 212.0]\n"
     ]
    }
   ],
   "source": [
    "# q9  Write a Python program that uses `map()` to convert a list of temperatures from Celsius to Fahrenheit.\n",
    "def celsius_to_fahrenheit(celsius):\n",
    "    return (celsius * 9/5) + 32\n",
    "def convert_temperatures(temperatures):\n",
    "    return list(map(celsius_to_fahrenheit, temperatures))\n",
    "# Example usage:\n",
    "temperatures_in_celsius = [0, 20, 37, 100]\n",
    "result11 = convert_temperatures(temperatures_in_celsius)\n",
    "print(result11)"
   ]
  },
  {
   "cell_type": "code",
   "execution_count": null,
   "id": "8afd6e58",
   "metadata": {},
   "outputs": [
    {
     "name": "stdout",
     "output_type": "stream",
     "text": [
      "Hll, Wrld!\n"
     ]
    }
   ],
   "source": [
    "# q10  Create a Python program that uses `filter()` to remove all the vowels from a given string.\n",
    "def remove_vowels(s):\n",
    "    vowels = \"aeiouAEIOU\"\n",
    "    return ''.join(filter(lambda x: x not in vowels, s))\n",
    "# Example usage:\n",
    "input_string_with_vowels = \"Hello, World!\"\n",
    "print(remove_vowels(input_string_with_vowels))"
   ]
  },
  {
   "cell_type": "code",
   "execution_count": 58,
   "id": "a3878bef",
   "metadata": {},
   "outputs": [
    {
     "name": "stdout",
     "output_type": "stream",
     "text": [
      "[(34587, 163.8), (98762, 284.0), (77226, 108.85000000000001), (88112, 84.97)]\n"
     ]
    }
   ],
   "source": [
    "# q11 ) Imagine an accounting routine used in a book shop. It works on a list with sublists, which look like this: Write a Python program, which returns a list with 2-tuples. Each tuple consists of the order number and the product of the price per item and the quantity. The product should be increased by 10,- € if the value of the order is smaller than 100,00 €. Write a Python program using lambda and map.\n",
    "orders = [\n",
    "    [34587, \"Learning Python, Mark Lutz\", 4, 40.95],\n",
    "    [98762, \"Programming Python, Mark Lutz\", 5, 56.80],\n",
    "    [77226, \"Head First Python, Paul Barry\", 3, 32.95],\n",
    "    [88112, \"Einführung in Python3, Bernd Klein\", 3, 24.99]\n",
    "]\n",
    "\n",
    "# map + lambda to apply the transformation\n",
    "result = list(map(lambda order: (\n",
    "    order[0], \n",
    "    order[2] * order[3] + (10 if order[2] * order[3] < 100 else 0)\n",
    "), orders))\n",
    "\n",
    "print(result)\n"
   ]
  }
 ],
 "metadata": {
  "kernelspec": {
   "display_name": "base",
   "language": "python",
   "name": "python3"
  },
  "language_info": {
   "codemirror_mode": {
    "name": "ipython",
    "version": 3
   },
   "file_extension": ".py",
   "mimetype": "text/x-python",
   "name": "python",
   "nbconvert_exporter": "python",
   "pygments_lexer": "ipython3",
   "version": "3.12.7"
  }
 },
 "nbformat": 4,
 "nbformat_minor": 5
}
