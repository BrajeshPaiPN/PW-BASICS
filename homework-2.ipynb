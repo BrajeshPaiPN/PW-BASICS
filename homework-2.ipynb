{
 "cells": [
  {
   "cell_type": "code",
   "execution_count": 90,
   "id": "0e44aa66",
   "metadata": {},
   "outputs": [],
   "source": [
    "# q1 What are data structures, and why are they important\n",
    "# Data structures are memory loacations n the disk for organizing, processing, and storing data.\n",
    "# They are important because they enable efficient data management and retrieval, which is crucial for performance in software applications.\n"
   ]
  },
  {
   "cell_type": "code",
   "execution_count": 91,
   "id": "63457226",
   "metadata": {},
   "outputs": [],
   "source": [
    "# q2 Explain the difference between mutable and immutable data types with example\n",
    "# Mutable data types can be changed after creation, while immutable data types cannot.\n",
    "# Example of mutable data type: list\n",
    "my_list = [1, 2, 3]\n",
    "my_list[0] = 10  # This is allowed, as lists are mutable\n",
    "# Example of immutable data type: tuple\n",
    "my_tuple = (1, 2, 3)"
   ]
  },
  {
   "cell_type": "code",
   "execution_count": 92,
   "id": "0451c70f",
   "metadata": {},
   "outputs": [],
   "source": [
    "# q3 What are the main differences between lists and tuples in Python\n",
    "# Lists are mutable, meaning they can be changed after creation, while tuples are immutable and cannot be changed.\n",
    "# Lists are defined using square brackets [], while tuples are defined using parentheses ().\n",
    "# Lists have more built-in methods for manipulation, while tuples are generally faster and use less memory.\n",
    "# Example of a list\n",
    "my_list = [1, 2, 3]\n",
    "# Example of a tuple\n",
    "my_tuple = (1, 2, 3)"
   ]
  },
  {
   "cell_type": "code",
   "execution_count": 93,
   "id": "92b53305",
   "metadata": {},
   "outputs": [],
   "source": [
    "# q4 Describe how dictionaries store dataDescribe how dictionaries store dataDescribe how dictionaries store data\n",
    "# Dictionaries store data in key-value pairs, allowing for fast retrieval of values based on their associated keys.\n",
    "# They are implemented as hash tables, which means that keys are hashed to determine their index in the underlying data structure.\n",
    "# Example of a dictionary\n",
    "my_dict = {'name': 'Alice', 'age': 30, 'city': 'New York'}"
   ]
  },
  {
   "cell_type": "code",
   "execution_count": 94,
   "id": "3d7593d8",
   "metadata": {},
   "outputs": [],
   "source": [
    "# q5 Why might you use a set instead of a list in Python\n",
    "# Sets are used when you need to store unique items and do not care about the order of elements.\n",
    "# They provide faster membership testing and eliminate duplicate entries automatically."
   ]
  },
  {
   "cell_type": "code",
   "execution_count": 95,
   "id": "56e96576",
   "metadata": {},
   "outputs": [],
   "source": [
    "# q6 What is a string in Python, and how is it different from a list\n",
    "# A string in Python is a sequence of characters used to represent text.\n",
    "# Strings are immutable, meaning they cannot be changed after creation, while lists are mutable and can be modified.\n",
    "# Example of a string\n",
    "my_string = \"Hello, World!\""
   ]
  },
  {
   "cell_type": "code",
   "execution_count": 96,
   "id": "98951df0",
   "metadata": {},
   "outputs": [],
   "source": [
    "# q7 How do tuples ensure data integrity in Python\n",
    "# Tuples ensure data integrity by being immutable, meaning once they are created, their contents cannot be changed.\n",
    "# This immutability prevents accidental modifications, making tuples suitable for storing fixed collections of items."
   ]
  },
  {
   "cell_type": "code",
   "execution_count": 97,
   "id": "b9fcf4d1",
   "metadata": {},
   "outputs": [],
   "source": [
    "# q8 What is a hash table, and how does it relate to dictionaries in Python\n",
    "# A hash table is a data structure that implements an associative array abstract data type, a structure that can map keys to values.\n",
    "# In Python, dictionaries are implemented using hash tables, allowing for efficient key-value pair storage and retrieval."
   ]
  },
  {
   "cell_type": "code",
   "execution_count": 98,
   "id": "3c277721",
   "metadata": {},
   "outputs": [],
   "source": [
    "# q9 Can lists contain different data types in Python\n",
    "# Yes, lists in Python can contain different data types. They are heterogeneous collections, meaning you can store integers, strings, floats, and even other lists or dictionaries within a single list.\n",
    "# Example of a list with different data types\n",
    "mixed_list = [1, \"two\", 3.0, [4, 5], {\"key\": \"value\"}]"
   ]
  },
  {
   "cell_type": "code",
   "execution_count": 99,
   "id": "f7d78b7a",
   "metadata": {},
   "outputs": [],
   "source": [
    "# q10 Explain why strings are immutable in Python\n",
    "# Strings are immutable in Python to ensure that they remain constant and cannot be altered after creation.\n",
    "# This immutability allows for optimizations in memory usage and performance, as well as ensuring that string literals can be shared safely across the program without risk of unintended changes."
   ]
  },
  {
   "cell_type": "code",
   "execution_count": 100,
   "id": "00312392",
   "metadata": {},
   "outputs": [],
   "source": [
    "# q11 What advantages do dictionaries offer over lists for certain tasks\n",
    "# 1. Fast lookups: Dictionaries provide O(1) average time complexity for look\n",
    "#    ups based on keys, while lists require O(n) time complexity for searching.\n",
    "# 2. Key-value pairs: Dictionaries store data in key-value pairs, allowing for more\n",
    "#    meaningful associations between data elements.\n",
    "# 3. Uniqueness: Keys in dictionaries are unique, preventing duplicate entries, while\n",
    "#    lists can contain duplicate values."
   ]
  },
  {
   "cell_type": "code",
   "execution_count": 101,
   "id": "939f1a3b",
   "metadata": {},
   "outputs": [],
   "source": [
    "# q12 Describe a scenario where using a tuple would be preferable over a list\n",
    "# A scenario where using a tuple would be preferable over a list is when you need to store a fixed collection of items that should not change, such as the coordinates of a point in a 2D space (x, y).\n",
    "# Using a tuple ensures that the coordinates remain constant and cannot be accidentally modified, which is important"
   ]
  },
  {
   "cell_type": "code",
   "execution_count": 102,
   "id": "305e84ee",
   "metadata": {},
   "outputs": [],
   "source": [
    "# q13 How do sets handle duplicate values in Python\n",
    "# Sets automatically eliminate duplicate values. When you add an item to a set, if that item already exists in the set, it will not be added again.\n",
    "# This property makes sets useful for storing unique items and performing operations like union, intersection, and"
   ]
  },
  {
   "cell_type": "code",
   "execution_count": 103,
   "id": "0075ee28",
   "metadata": {},
   "outputs": [],
   "source": [
    "# q14 How does the “in” keyword work differently for lists and dictionaries\n",
    "# The \"in\" keyword checks for membership in both lists and dictionaries, but it behaves differently:\n",
    "# - For lists, it checks if a value exists in the list.\n",
    "# - For dictionaries, it checks if a key exists in the dictionary."
   ]
  },
  {
   "cell_type": "code",
   "execution_count": 104,
   "id": "1bdd2d1c",
   "metadata": {},
   "outputs": [],
   "source": [
    "# q15 Can you modify the elements of a tuple? Explain why or why not\n",
    "# No, you cannot modify the elements of a tuple because tuples are immutable. Once a tuple is created, its contents cannot be changed, which ensures data integrity and prevents accidental modifications.\n"
   ]
  },
  {
   "cell_type": "code",
   "execution_count": 105,
   "id": "c3b51e49",
   "metadata": {},
   "outputs": [],
   "source": [
    "# q16 What is a nested dictionary, and give an example of its use case\n",
    "# A nested dictionary is a dictionary that contains other dictionaries as its values. This allows for the organization of complex data structures.\n",
    "# Example use case: Storing information about students and their grades in different subjects.\n",
    "nested_dict = {\n",
    "    'student1': {'name': 'Alice', 'grades': {'math': 90, 'science': 85}},\n",
    "    'student2': {'name': 'Bob', 'grades': {'math': 80, 'science': 88}}\n",
    "}"
   ]
  },
  {
   "cell_type": "code",
   "execution_count": 106,
   "id": "5b134953",
   "metadata": {},
   "outputs": [],
   "source": [
    "# q17 Describe the time complexity of accessing elements in a dictionary\n",
    "# The average time complexity for accessing elements in a dictionary is O(1) due to the underlying hash table implementation.\n",
    "# However, in the worst case, it can degrade to O(n) if there are many hash collisions."
   ]
  },
  {
   "cell_type": "code",
   "execution_count": 107,
   "id": "1fa84d89",
   "metadata": {},
   "outputs": [],
   "source": [
    "# q18 In what situations are lists preferred over dictionaries\n",
    "# Lists are preferred over dictionaries in situations where:\n",
    "# 1. The order of elements matters, as lists maintain the order of insertion.\n",
    "# 2. You need to perform operations like sorting, slicing, or iterating over a sequence of items.\n",
    "# 3. You want to store a collection of items without the need for key-value associations"
   ]
  },
  {
   "cell_type": "code",
   "execution_count": 108,
   "id": "fea5be72",
   "metadata": {},
   "outputs": [],
   "source": [
    "# q19 Why are dictionaries considered unordered, and how does that affect data retrieva\n",
    "# Dictionaries are considered unordered because they do not maintain the order of elements based on insertion. Instead, they use a hash table to store key-value pairs.\n",
    "# This means that when you retrieve items from a dictionary, the order in which they are returned is not guaranteed to be the same as the order in which they were added.\n",
    "# This affects data retrieval in that you cannot rely on the order of items when iterating over a dictionary, but you can still access values efficiently using their keys. "
   ]
  },
  {
   "cell_type": "code",
   "execution_count": 109,
   "id": "6939fd7b",
   "metadata": {},
   "outputs": [],
   "source": [
    "# q20 Explain the difference between a list and a dictionary in terms of data retrieval.\n",
    "# The main difference between a list and a dictionary in terms of data retrieval is:\n",
    "# - Lists use integer indices to access elements, which means you retrieve items based on their position\n",
    "#   in the list. This requires O(1) time complexity for accessing an element by its index.\n",
    "# - Dictionaries use keys to access values, allowing for O(1) average time complexity for\n",
    "#   retrieving values based on their associated keys. This makes dictionaries more efficient for lookups\n",
    "# when you need to find values based on specific identifiers rather than their position in a sequence.\n",
    "# Example of list retrieval\n",
    "my_list = [10, 20, 30]\n",
    "# value_at_index_1 = my_list[1]  # Retrieves the value at index 1, which is 20\n",
    "# Example of dictionary retrieval\n",
    "my_dict = {'a': 1, 'b': 2, 'c': 3}\n",
    "# value_for_key_b = my_dict['b']  # Retrieves the value associated with key 'b', which is 2"
   ]
  },
  {
   "cell_type": "code",
   "execution_count": 110,
   "id": "6bd36bb9",
   "metadata": {},
   "outputs": [],
   "source": [
    "# PRACTICAL QUESTIONS"
   ]
  },
  {
   "cell_type": "code",
   "execution_count": 111,
   "id": "28c49930",
   "metadata": {},
   "outputs": [
    {
     "name": "stdout",
     "output_type": "stream",
     "text": [
      "Brajesh Pai\n"
     ]
    }
   ],
   "source": [
    "# q1 Write a code to create a string with your name and print it\n",
    "name = \"Brajesh Pai\"\n",
    "print(name)"
   ]
  },
  {
   "cell_type": "code",
   "execution_count": 112,
   "id": "d105411c",
   "metadata": {},
   "outputs": [
    {
     "name": "stdout",
     "output_type": "stream",
     "text": [
      "The length of the string 'Hello World' is 11 characters.\n"
     ]
    }
   ],
   "source": [
    "# q2 Write a code to find the length of the string \"Hello World\n",
    "string = \"Hello World\"\n",
    "length_of_string = len(string)\n",
    "print(f\"The length of the string '{string}' is {length_of_string} characters.\")"
   ]
  },
  {
   "cell_type": "code",
   "execution_count": 113,
   "id": "a2b3a923",
   "metadata": {},
   "outputs": [
    {
     "name": "stdout",
     "output_type": "stream",
     "text": [
      "The first 3 characters of the string 'Python Programming' are 'Pyt'.\n"
     ]
    }
   ],
   "source": [
    "# q3 Write a code to slice the first 3 characters from the string \"Python Programming\"\n",
    "string = \"Python Programming\"\n",
    "sliced_string = string[:3]\n",
    "print(f\"The first 3 characters of the string '{string}' are '{sliced_string}'.\")"
   ]
  },
  {
   "cell_type": "code",
   "execution_count": 114,
   "id": "cb0da388",
   "metadata": {},
   "outputs": [
    {
     "name": "stdout",
     "output_type": "stream",
     "text": [
      "The uppercase version of the string 'Hello' is 'HELLO'.\n"
     ]
    }
   ],
   "source": [
    "# q4 write a code to convert the string \"Hello\" to uppercase\n",
    "string = \"Hello\"\n",
    "uppercase_string = string.upper()\n",
    "print(f\"The uppercase version of the string '{string}' is '{uppercase_string}'.\")"
   ]
  },
  {
   "cell_type": "code",
   "execution_count": 115,
   "id": "2d430073",
   "metadata": {},
   "outputs": [
    {
     "name": "stdout",
     "output_type": "stream",
     "text": [
      "The string after replacing 'apple' with 'orange' is: 'I like orange'.\n"
     ]
    }
   ],
   "source": [
    "# q5 Write a code to replace the word \"apple\" with \"orange\" in the string \"I like apple\"\n",
    "string = \"I like apple\"\n",
    "replaced_string = string.replace(\"apple\", \"orange\")\n",
    "print(f\"The string after replacing 'apple' with 'orange' is: '{replaced_string}'.\")"
   ]
  },
  {
   "cell_type": "code",
   "execution_count": 116,
   "id": "09726f5c",
   "metadata": {},
   "outputs": [
    {
     "name": "stdout",
     "output_type": "stream",
     "text": [
      "The list of numbers from 1 to 5 is: [1, 2, 3, 4, 5]\n"
     ]
    }
   ],
   "source": [
    "# q6 Write a code to create a list with numbers 1 to 5 and print it\n",
    "numbers_list = [1, 2, 3, 4, 5]\n",
    "print(f\"The list of numbers from 1 to 5 is: {numbers_list}\")"
   ]
  },
  {
   "cell_type": "code",
   "execution_count": 117,
   "id": "82871a54",
   "metadata": {},
   "outputs": [
    {
     "name": "stdout",
     "output_type": "stream",
     "text": [
      "The list after appending 10 is: [1, 2, 3, 4, 10]\n"
     ]
    }
   ],
   "source": [
    "# q7 Write a code to append the number 10 to the list [1, 2, 3, 4]\n",
    "numbers_list = [1, 2, 3, 4]\n",
    "numbers_list.append(10)\n",
    "print(f\"The list after appending 10 is: {numbers_list}\")"
   ]
  },
  {
   "cell_type": "code",
   "execution_count": 118,
   "id": "ddafe9c8",
   "metadata": {},
   "outputs": [
    {
     "name": "stdout",
     "output_type": "stream",
     "text": [
      "The list after removing 3 is: [1, 2, 4, 5]\n"
     ]
    }
   ],
   "source": [
    "#q8 Write a code to remove the number 3 from the list [1, 2, 3, 4, 5]\n",
    "numbers_list = [1, 2, 3, 4, 5]\n",
    "numbers_list.remove(3)\n",
    "print(f\"The list after removing 3 is: {numbers_list}\")"
   ]
  },
  {
   "cell_type": "code",
   "execution_count": 119,
   "id": "e9b07c2a",
   "metadata": {},
   "outputs": [
    {
     "name": "stdout",
     "output_type": "stream",
     "text": [
      "The second element in the list ['a', 'b', 'c', 'd'] is 'b'.\n"
     ]
    }
   ],
   "source": [
    "# q9 Write a code to access the second element in the list ['a', 'b', 'c', 'd'] \n",
    "my_list = ['a', 'b', 'c', 'd']\n",
    "second_element = my_list[1]\n",
    "print(f\"The second element in the list {my_list} is '{second_element}'.\")"
   ]
  },
  {
   "cell_type": "code",
   "execution_count": 120,
   "id": "f1a54e67",
   "metadata": {},
   "outputs": [
    {
     "name": "stdout",
     "output_type": "stream",
     "text": [
      "The reversed list is: [50, 40, 30, 20, 10]\n"
     ]
    }
   ],
   "source": [
    "# q10  Write a code to reverse the list [10, 20, 30, 40, 50].\n",
    "numbers_list = [10, 20, 30, 40, 50]\n",
    "numbers_list.reverse()\n",
    "print(f\"The reversed list is: {numbers_list}\")\n"
   ]
  },
  {
   "cell_type": "code",
   "execution_count": 121,
   "id": "a8dca8d7",
   "metadata": {},
   "outputs": [
    {
     "name": "stdout",
     "output_type": "stream",
     "text": [
      "The tuple with elements 100, 200, 300 is: (100, 200, 300)\n"
     ]
    }
   ],
   "source": [
    "#  q11 Write a code to create a tuple with the elements 100, 200, 300 and print it.\n",
    "my_tuple = (100, 200, 300)\n",
    "print(f\"The tuple with elements 100, 200, 300 is: {my_tuple}\")"
   ]
  },
  {
   "cell_type": "code",
   "execution_count": 122,
   "id": "01602d98",
   "metadata": {},
   "outputs": [
    {
     "name": "stdout",
     "output_type": "stream",
     "text": [
      "The second-to-last element of the tuple ('red', 'green', 'blue', 'yellow') is 'blue'.\n"
     ]
    }
   ],
   "source": [
    "#  Write a code to access the second-to-last element of the tuple ('red', 'green', 'blue', 'yellow').\n",
    "my_tuple = ('red', 'green', 'blue', 'yellow')\n",
    "second_to_last_element = my_tuple[-2]\n",
    "print(f\"The second-to-last element of the tuple {my_tuple} is '{second_to_last_element}'.\")"
   ]
  },
  {
   "cell_type": "code",
   "execution_count": 123,
   "id": "a59be5d6",
   "metadata": {},
   "outputs": [
    {
     "name": "stdout",
     "output_type": "stream",
     "text": [
      "The minimum number in the tuple (10, 20, 5, 15) is 5.\n"
     ]
    }
   ],
   "source": [
    "# q13 Write a code to find the minimum number in the tuple (10, 20, 5, 15).\n",
    "my_tuple = (10, 20, 5, 15)\n",
    "minimum_number = min(my_tuple) \n",
    "print(f\"The minimum number in the tuple {my_tuple} is {minimum_number}.\")\n"
   ]
  },
  {
   "cell_type": "code",
   "execution_count": 124,
   "id": "ed848f87",
   "metadata": {},
   "outputs": [
    {
     "name": "stdout",
     "output_type": "stream",
     "text": [
      "The index of 'cat' in the tuple ('dog', 'cat', 'rabbit') is 1.\n"
     ]
    }
   ],
   "source": [
    "# q14 Write a code to find the index of the element \"cat\" in the tuple ('dog', 'cat', 'rabbit')\n",
    "my_tuple = ('dog', 'cat', 'rabbit')\n",
    "index_of_cat = my_tuple.index('cat')\n",
    "print(f\"The index of 'cat' in the tuple {my_tuple} is {index_of_cat}.\")"
   ]
  },
  {
   "cell_type": "code",
   "execution_count": 125,
   "id": "2e38d799",
   "metadata": {},
   "outputs": [
    {
     "name": "stdout",
     "output_type": "stream",
     "text": [
      "Is 'kiwi' in the tuple ('apple', 'banana', 'orange')? No.\n"
     ]
    }
   ],
   "source": [
    "# q15 Write a code to create a tuple containing three different fruits and check if \"kiwi\" is in it\n",
    "my_tuple = ('apple', 'banana', 'orange')\n",
    "is_kiwi_in_tuple = 'kiwi' in my_tuple\n",
    "print(f\"Is 'kiwi' in the tuple {my_tuple}? {'Yes' if is_kiwi_in_tuple else 'No'}.\")"
   ]
  },
  {
   "cell_type": "code",
   "execution_count": 126,
   "id": "8a51f388",
   "metadata": {},
   "outputs": [
    {
     "name": "stdout",
     "output_type": "stream",
     "text": [
      "The set with elements 'a', 'b', 'c' is: {'b', 'a', 'c'}\n"
     ]
    }
   ],
   "source": [
    "# q16 Write a code to create a set with the elements 'a', 'b', 'c' and print it\n",
    "my_set = {'a', 'b', 'c'}\n",
    "print(f\"The set with elements 'a', 'b', 'c' is: {my_set}\")\n"
   ]
  },
  {
   "cell_type": "code",
   "execution_count": 127,
   "id": "50f6d8df",
   "metadata": {},
   "outputs": [
    {
     "name": "stdout",
     "output_type": "stream",
     "text": [
      "The set after clearing all elements is: set()\n"
     ]
    }
   ],
   "source": [
    "# q17 Write a code to clear all elements from the set {1, 2, 3, 4, 5}\n",
    "my_set = {1, 2, 3, 4, 5}\n",
    "my_set.clear()\n",
    "print(f\"The set after clearing all elements is: {my_set}\")"
   ]
  },
  {
   "cell_type": "code",
   "execution_count": 128,
   "id": "8b036a06",
   "metadata": {},
   "outputs": [
    {
     "name": "stdout",
     "output_type": "stream",
     "text": [
      "The set after removing the element 4 is: {1, 2, 3}\n"
     ]
    }
   ],
   "source": [
    "# q18 Write a code to remove the element 4 from the set {1, 2, 3, 4}\n",
    "my_set = {1, 2, 3, 4}\n",
    "my_set.remove(4)\n",
    "print(f\"The set after removing the element 4 is: {my_set}\")\n"
   ]
  },
  {
   "cell_type": "code",
   "execution_count": null,
   "id": "e47882e2",
   "metadata": {},
   "outputs": [
    {
     "name": "stdout",
     "output_type": "stream",
     "text": [
      "The union of the sets {1, 2, 3} and {3, 4, 5} is: {1, 2, 3, 4, 5}\n"
     ]
    }
   ],
   "source": [
    "# q19 Write a code to find the union of two sets {1, 2, 3} and {3, 4, 5}.\n",
    "set1 = {1, 2, 3}\n",
    "set2 = {3, 4, 5}\n",
    "union_set = set1.union(set2)\n",
    "print(f\"The union of the sets {set1} and {set2} is: {union_set}\")\n"
   ]
  },
  {
   "cell_type": "code",
   "execution_count": 130,
   "id": "c2105729",
   "metadata": {},
   "outputs": [
    {
     "name": "stdout",
     "output_type": "stream",
     "text": [
      "The intersection of the sets {1, 2, 3} and {2, 3, 4} is: {2, 3}\n"
     ]
    }
   ],
   "source": [
    "# q20 Write a code to find the intersection of two sets {1, 2, 3} and {2, 3, 4}\n",
    "set1 = {1, 2, 3}\n",
    "set2 = {2, 3, 4}\n",
    "intersection_set = set1.intersection(set2)\n",
    "print(f\"The intersection of the sets {set1} and {set2} is: {intersection_set}\")"
   ]
  },
  {
   "cell_type": "code",
   "execution_count": 133,
   "id": "ed77ebcf",
   "metadata": {},
   "outputs": [
    {
     "name": "stdout",
     "output_type": "stream",
     "text": [
      "The dictionary with keys 'name', 'age', and 'city' is: {'name': 'Narayana', 'age': 30, 'city': 'Mangalore'}\n"
     ]
    }
   ],
   "source": [
    "# q21 Write a code to create a dictionary with the keys \"name\", \"age\", and \"city\", and print it\n",
    "my_dict = {\n",
    "    'name': 'Narayana',\n",
    "    'age': 30,\n",
    "    'city': 'Mangalore'\n",
    "}\n",
    "print(f\"The dictionary with keys 'name', 'age', and 'city' is: {my_dict}\")"
   ]
  },
  {
   "cell_type": "code",
   "execution_count": 134,
   "id": "405d8247",
   "metadata": {},
   "outputs": [
    {
     "name": "stdout",
     "output_type": "stream",
     "text": [
      "The dictionary after adding 'country': 'USA' is: {'name': 'John', 'age': 25, 'country': 'USA'}\n"
     ]
    }
   ],
   "source": [
    "# q22 Write a code to add a new key-value pair \"country\": \"USA\" to the dictionary {'name': 'John', 'age': 25}.\n",
    "my_dict = {'name': 'John', 'age': 25}\n",
    "my_dict['country'] = 'USA'  \n",
    "print(f\"The dictionary after adding 'country': 'USA' is: {my_dict}\")"
   ]
  },
  {
   "cell_type": "code",
   "execution_count": 135,
   "id": "a2e755ef",
   "metadata": {},
   "outputs": [
    {
     "name": "stdout",
     "output_type": "stream",
     "text": [
      "The value associated with the key 'name' in the dictionary {'name': 'Alice', 'age': 30} is: Alice\n"
     ]
    }
   ],
   "source": [
    "# q23 Write a code to access the value associated with the key \"name\" in the dictionary {'name': 'Alice', 'age': 30}.\n",
    "my_dict = {'name': 'Alice', 'age': 30}\n",
    "name_value = my_dict['name']\n",
    "print(f\"The value associated with the key 'name' in the dictionary {my_dict} is: {name_value}\") "
   ]
  },
  {
   "cell_type": "code",
   "execution_count": 136,
   "id": "4e7d63ed",
   "metadata": {},
   "outputs": [
    {
     "name": "stdout",
     "output_type": "stream",
     "text": [
      "The dictionary after removing the key 'age' is: {'name': 'Bob', 'city': 'New York'}\n"
     ]
    }
   ],
   "source": [
    "# q24 Write a code to remove the key \"age\" from the dictionary {'name': 'Bob', 'age': 22, 'city': 'New York'}.\n",
    "my_dict = {'name': 'Bob', 'age': 22, 'city': 'New York'}\n",
    "del my_dict['age']\n",
    "print(f\"The dictionary after removing the key 'age' is: {my_dict}\")"
   ]
  },
  {
   "cell_type": "code",
   "execution_count": 137,
   "id": "4c0361ba",
   "metadata": {},
   "outputs": [
    {
     "name": "stdout",
     "output_type": "stream",
     "text": [
      "Does the key 'city' exist in the dictionary {'name': 'Alice', 'city': 'Paris'}? Yes\n"
     ]
    }
   ],
   "source": [
    "# q25  Write a code to check if the key \"city\" exists in the dictionary {'name': 'Alice', 'city': 'Paris'}.\n",
    "my_dict = {'name': 'Alice', 'city': 'Paris'}\n",
    "key_exists = 'city' in my_dict\n",
    "print(f\"Does the key 'city' exist in the dictionary {my_dict}? {'Yes' if key_exists else 'No'}\")"
   ]
  },
  {
   "cell_type": "code",
   "execution_count": null,
   "id": "f34428c5",
   "metadata": {},
   "outputs": [],
   "source": [
    "# q26 Write a code to create a list, a tuple, and a dictionary, and print them all.\n",
    "my_list = [1, 2, 3, 4, 5]\n",
    "my_tuple = (10, 20, 30)\n",
    "my_dict = {'name': 'Alice', 'age': 30, 'city': 'New York'}\n",
    "print(f\"The list is: {my_list}\")\n",
    "print(f\"The tuple is: {my_tuple}\")\n",
    "print(f\"The dictionary is: {my_dict}\")\n"
   ]
  },
  {
   "cell_type": "code",
   "execution_count": 138,
   "id": "64c674fa",
   "metadata": {},
   "outputs": [
    {
     "name": "stdout",
     "output_type": "stream",
     "text": [
      "The list of random numbers sorted in ascending order is: [2, 27, 27, 72, 79]\n"
     ]
    }
   ],
   "source": [
    "# q27 Write a code to create a list of 5 random numbers between 1 and 100, sort it in ascending order, and print the result\n",
    "import random\n",
    "random_numbers = [random.randint(1, 100) for _ in range(5)]\n",
    "random_numbers.sort()\n",
    "print(f\"The list of random numbers sorted in ascending order is: {random_numbers}\")"
   ]
  },
  {
   "cell_type": "code",
   "execution_count": null,
   "id": "4b41bf5b",
   "metadata": {},
   "outputs": [],
   "source": [
    "# q28  Write a code to create a list with strings and print the element at the third index.\n",
    "my_list = ['apple', 'banana', 'cherry', 'date', 'elderberry']\n",
    "if len(my_list) > 3:\n",
    "    third_index_element = my_list[3]\n",
    "    print(f\"The element at the third index in the list {my_list} is: {third_index_element}\")\n",
    "else:\n",
    "    print(\"The list does not have a third index element.\")\n",
    "    "
   ]
  },
  {
   "cell_type": "code",
   "execution_count": null,
   "id": "f89d6df6",
   "metadata": {},
   "outputs": [],
   "source": [
    "# q29 Write a code to combine two dictionaries into one and print the result.\n",
    "dict1 = {'name': 'Alice', 'age': 30}\n",
    "dict2 = {'city': 'New York', 'country': 'USA'}\n",
    "combined_dict = {**dict1, **dict2}\n",
    "print(f\"The combined dictionary is: {combined_dict}\")\n"
   ]
  },
  {
   "cell_type": "code",
   "execution_count": null,
   "id": "f060a4b7",
   "metadata": {},
   "outputs": [],
   "source": [
    "# q30. Write a code to convert a list of strings into a set.\n",
    "my_list = ['apple', 'banana', 'cherry', 'apple']\n",
    "my_set = set(my_list)\n",
    "print(f\"The set created from the list {my_list} is: {my_set}\")\n"
   ]
  }
 ],
 "metadata": {
  "kernelspec": {
   "display_name": "base",
   "language": "python",
   "name": "python3"
  },
  "language_info": {
   "codemirror_mode": {
    "name": "ipython",
    "version": 3
   },
   "file_extension": ".py",
   "mimetype": "text/x-python",
   "name": "python",
   "nbconvert_exporter": "python",
   "pygments_lexer": "ipython3",
   "version": "3.12.7"
  }
 },
 "nbformat": 4,
 "nbformat_minor": 5
}
